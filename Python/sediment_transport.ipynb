{
 "cells": [
  {
   "cell_type": "code",
   "execution_count": 18,
   "id": "cf73f839-d59c-4623-a63a-38e31b5b1030",
   "metadata": {},
   "outputs": [],
   "source": [
    "import numpy as np\n",
    "import scipy.io\n",
    "import os"
   ]
  },
  {
   "cell_type": "code",
   "execution_count": 19,
   "id": "e64339cb-d766-4641-8895-41210a5baa16",
   "metadata": {},
   "outputs": [],
   "source": [
    "# Load selected ensemble data\n",
    "coastline_data = scipy.io.loadmat('coastline_direction_uniform.mat')\n",
    "coastlineDirection = coastline_data['True_coastline_direction'].flatten()"
    "data = scipy.io.loadmat('ensemble_data.mat')\n",
   ]
  },
  {
   "cell_type": "code",
   "execution_count": 20,
   "id": "b32fe125-91c1-4931-b69b-aa8cfaad444e",
   "metadata": {},
   "outputs": [],
   "source": [
    "# Define functions\n",
    "\n",
    "def calculate_normal_to_coastline(coastlineDirection):\n",
    "    normalToCoastline = np.zeros(len(coastlineDirection))\n",
    "    for i in range(len(coastlineDirection)):\n",
    "        if i <= 3 or (i >= 5 and i <= 8) or (i >= 9 and i <= 12) or (i >= 18 and i <= 23) or (i >= 35 and i <= 38):\n",
    "            normalToCoastline[i] = coastlineDirection[i] - 90\n",
    "        elif i == 4 or i == 24 or i > 38:\n",
    "            normalToCoastline[i] = (90 - coastlineDirection[i]) + 90\n",
    "        elif i >= 13 and i <= 17:\n",
    "            normalToCoastline[i] = (90 - coastlineDirection[i]) + 90\n",
    "    return normalToCoastline"
   ]
  },
  {
   "cell_type": "code",
   "execution_count": 21,
   "id": "408fe008-7fae-4497-8296-0d43eb88da7b",
   "metadata": {},
   "outputs": [],
   "source": [
    "\n",
    "def adjust_wave_direction(normalToCoastline, dm):\n",
    "    adjustedDirection = []\n",
    "    for i in range(dm.shape[1]):\n",
    "        waveDirection = dm[:, i]\n",
    "        tempDir = np.zeros(len(waveDirection))\n",
    "        for j in range(len(waveDirection)):\n",
    "            if normalToCoastline[j] < 0:\n",
    "                tempDir[j] = abs(normalToCoastline[j]) - waveDirection[j]\n",
    "            else:\n",
    "                tempDir[j] = waveDirection[j] - normalToCoastline[j]\n",
    "        adjustedDirection.append(tempDir)\n",
    "    return np.array(adjustedDirection).T"
   ]
  },
  {
   "cell_type": "code",
   "execution_count": 22,
   "id": "2eb15730-32d9-49e9-88e1-3acebb355ca7",
   "metadata": {},
   "outputs": [],
   "source": [
    "def calculate_wave_directions(normalToCoastline, dm_a, dm_s, dm_w):\n",
    "    waveDirRelToNorth_a = adjust_wave_direction(normalToCoastline, dm_a)\n",
    "    waveDirRelToNorth_s = adjust_wave_direction(normalToCoastline, dm_s)\n",
    "    waveDirRelToNorth_w = adjust_wave_direction(normalToCoastline, dm_w)\n",
    "    return waveDirRelToNorth_a, waveDirRelToNorth_s, waveDirRelToNorth_w"
   ]
  },
  {
   "cell_type": "code",
   "execution_count": 23,
   "id": "04242fc6-0693-4460-a0c8-0ede4226ff48",
   "metadata": {},
   "outputs": [],
   "source": [
    "def calculate_sediment_transport(tm, hs, adjustedDirection, lon_f):\n",
    "    numLocations = len(lon_f)\n",
    "    Thetab_f, Hb_f, hb_f, R_f, S_f, V_f = [], [], [], [], [], []\n",
    "    \n",
    "    for j in range(tm.shape[1]):\n",
    "        tm_f = tm[:, j]\n",
    "        hs_f = hs[:, j]\n",
    "        dir_f = adjustedDirection[:, j]\n",
    "        \n",
    "        Thetab, Hb, hb, R, S, V = np.zeros(numLocations), np.zeros(numLocations), np.zeros(numLocations), np.zeros(numLocations), np.zeros(numLocations), np.zeros(numLocations)\n",
    "        \n",
    "        for i in range(numLocations):\n",
    "            Thetab[i], Hb[i], hb[i], R[i], S[i], V[i] = adapted_Larson2010(tm_f[i], hs_f[i], dir_f[i])\n",
    "        \n",
    "        Thetab_f.append(Thetab)\n",
    "        Hb_f.append(Hb)\n",
    "        hb_f.append(hb)\n",
    "        R_f.append(R)\n",
    "        S_f.append(S)\n",
    "        V_f.append(V)\n",
    "    \n",
    "    return np.array(Thetab_f), np.array(Hb_f), np.array(hb_f), np.array(R_f), np.array(S_f), np.array(V_f)\n"
   ]
  },
  {
   "cell_type": "code",
   "execution_count": 24,
   "id": "3dfb75ca-aeaf-4571-b3f3-aebe4ad69343",
   "metadata": {},
   "outputs": [],
   "source": [
    "def adapted_Larson2010(tm, hs, direction):\n",
    "    # Placeholder for the actual function implementation\n",
    "    return 0, 0, 0, 0, 0, 0"
   ]
  },
  {
   "cell_type": "code",
   "execution_count": 25,
   "id": "6e7e0b58-3e62-46ed-bac1-c2533582cd29",
   "metadata": {},
   "outputs": [],
   "source": [
    "def calculate_omega(Hb_a, V_a, Hb_s, V_s, Hb_w, V_w):\n",
    "    OMEGA_a = calculate_omega_for_season(Hb_a, V_a)\n",
    "    OMEGA_s = calculate_omega_for_season(Hb_s, V_s)\n",
    "    OMEGA_w = calculate_omega_for_season(Hb_w, V_w)\n",
    "    return OMEGA_a, OMEGA_s, OMEGA_w"
   ]
  },
  {
   "cell_type": "code",
   "execution_count": 26,
   "id": "6f807036-7396-4ad6-b781-7dddb1822e14",
   "metadata": {},
   "outputs": [],
   "source": [
    "def calculate_omega_for_season(Hb, V):\n",
    "    OMEGA = []\n",
    "    for j in range(Hb.shape[0]):\n",
    "        omega = Hb[j, :]**2 * V[j, :]\n",
    "        OMEGA.append(omega)\n",
    "    return np.array(OMEGA)"
   ]
  },
  {
   "cell_type": "code",
   "execution_count": 27,
   "id": "0177ba94-11e9-4276-b5eb-78180de7bd3c",
   "metadata": {},
   "outputs": [],
   "source": [
    "def calculate_transport(OMEGA_a, OMEGA_s, OMEGA_w):\n",
    "    TRANSPORT_a = calculate_transport_for_season(OMEGA_a)\n",
    "    TRANSPORT_s = calculate_transport_for_season(OMEGA_s)\n",
    "    TRANSPORT_w = calculate_transport_for_season(OMEGA_w)\n",
    "    return TRANSPORT_a, TRANSPORT_s, TRANSPORT_w"
   ]
  },
  {
   "cell_type": "code",
   "execution_count": 28,
   "id": "d39b1153-b42c-49be-ad70-aa8776e99ada",
   "metadata": {},
   "outputs": [],
   "source": [
    "def calculate_transport_for_season(OMEGA):\n",
    "    TRANSPORT = []\n",
    "    for j in range(OMEGA.shape[0]):\n",
    "        omega = OMEGA[j, :]\n",
    "        transport = np.array([calculate_transport_value(o) for o in omega])\n",
    "        TRANSPORT.append(transport)\n",
    "    return np.array(TRANSPORT)"
   ]
  },
  {
   "cell_type": "code",
   "execution_count": 29,
   "id": "20f5845e-fabb-476b-9e49-41d5a3c3b3c5",
   "metadata": {},
   "outputs": [],
   "source": [
    "def calculate_transport_value(omega):\n",
    "    if omega < 0.15:\n",
    "        return 0.023 * omega  # Calm periods\n",
    "    else:\n",
    "        return 0.00225 + 0.008 * omega  # Storm periods"
   ]
  },
  {
   "cell_type": "code",
   "execution_count": 30,
   "id": "f9cc3063-804d-4b0e-8e80-23a21c56fb15",
   "metadata": {},
   "outputs": [],
   "source": [
    "# Example data\n",
    "dm_a = data['dm_a']\n",
    "dm_s = data['dm_s']\n",
    "dm_w = data['dm_w']\n",
    "tm_a = data['tm_a']\n",
    "hs_a = data['hs_a']\n",
    "tm_s = data['tm_s']\n",
    "hs_s = data['hs_s']\n",
    "tm_w = data['tm_w']\n",
    "hs_w = data['hs_w']\n",
    "lon_f = data['lon_f'].flatten()\n",
    "\n",
    "# Calculate normal to coastline\n",
    "normalToCoastline = calculate_normal_to_coastline(coastlineDirection)\n",
    "\n",
    "# Calculate directions relative to the north for wave direction (annual average)\n",
    "waveDirRelToNorth_a, waveDirRelToNorth_s, waveDirRelToNorth_w = calculate_wave_directions(normalToCoastline, dm_a, dm_s, dm_w)\n",
    "\n",
    "# Calculate longshore sediment transport (annual average)\n",
    "Thetab_a, Hb_a, hb_a, R_a, S_a, V_a = calculate_sediment_transport(tm_a, hs_a, waveDirRelToNorth_a, lon_f)\n",
    "Thetab_s, Hb_s, hb_s, R_s, S_s, V_s = calculate_sediment_transport(tm_s, hs_s, waveDirRelToNorth_s, lon_f)\n",
    "Thetab_w, Hb_w, hb_w, R_w, S_w, V_w = calculate_sediment_transport(tm_w, hs_w, waveDirRelToNorth_w, lon_f)\n",
    "\n",
    "# Calculate omega and transport\n",
    "OMEGA_a, OMEGA_s, OMEGA_w = calculate_omega(Hb_a, V_a, Hb_s, V_s, Hb_w, V_w)\n",
    "TRANSPORT_a, TRANSPORT_s, TRANSPORT_w = calculate_transport(OMEGA_a, OMEGA_s, OMEGA_w)\n",
    "\n",
    "# Convert transport to per year\n",
    "conversionFactor = 1 / 31536000\n",
    "Q_hist_a = TRANSPORT_a / conversionFactor\n",
    "Q_hist_s = TRANSPORT_s / conversionFactor\n",
    "Q_hist_w = TRANSPORT_w / conversionFactor\n",
    "\n",
    "V_hist_a = V_a\n",
    "V_hist_s = V_s\n",
    "V_hist_w = V_w\n"
   ]
  },
  {
   "cell_type": "code",
   "execution_count": 33,
   "id": "f9c8d1b5-317b-4b80-9c70-f74b4af5400e",
   "metadata": {},
   "outputs": [
    {
     "name": "stdout",
     "output_type": "stream",
     "text": [
      "Q_hist_s: [[0. 0. 0. ... 0. 0. 0.]\n",
      " [0. 0. 0. ... 0. 0. 0.]\n",
      " [0. 0. 0. ... 0. 0. 0.]\n",
      " ...\n",
      " [0. 0. 0. ... 0. 0. 0.]\n",
      " [0. 0. 0. ... 0. 0. 0.]\n",
      " [0. 0. 0. ... 0. 0. 0.]]\n"
     ]
    }
   ],
   "source": [
    "print(\"Q_hist_s:\", Q_hist_s)"
   ]
  },
  {
   "cell_type": "code",
   "execution_count": null,
   "id": "76799723-737f-41e6-a6d0-67cb4f7174e9",
   "metadata": {},
   "outputs": [],
   "source": []
  }
 ],
 "metadata": {
  "kernelspec": {
   "display_name": "Python 3 (ipykernel)",
   "language": "python",
   "name": "python3"
  },
  "language_info": {
   "codemirror_mode": {
    "name": "ipython",
    "version": 3
   },
   "file_extension": ".py",
   "mimetype": "text/x-python",
   "name": "python",
   "nbconvert_exporter": "python",
   "pygments_lexer": "ipython3",
   "version": "3.11.7"
  }
 },
 "nbformat": 4,
 "nbformat_minor": 5
}
